{
 "cells": [
  {
   "cell_type": "markdown",
   "metadata": {},
   "source": [
    "# Non Graded Challenge 12"
   ]
  },
  {
   "cell_type": "markdown",
   "metadata": {},
   "source": [
    "# Inferential"
   ]
  },
  {
   "cell_type": "markdown",
   "metadata": {},
   "source": [
    "Nama : Raditya Saputra"
   ]
  },
  {
   "cell_type": "markdown",
   "metadata": {},
   "source": [
    "Batch : 007 FTDS"
   ]
  },
  {
   "cell_type": "markdown",
   "metadata": {},
   "source": [
    "# Soal :"
   ]
  },
  {
   "cell_type": "markdown",
   "metadata": {},
   "source": [
    "- Lakukan hypothesis testing terhadap dataset 'fix_clean_inferential_covid_indo.csv'\n",
    "- Ambil kesimpulan dari hasil analisa dataset 'fix_clean_inferential_covid_indo.csv'\n",
    "- Sebelumnya dataset berikut sudah di handling pada non graded challenge 11"
   ]
  },
  {
   "cell_type": "markdown",
   "metadata": {},
   "source": [
    "# Library yang digunakan :"
   ]
  },
  {
   "cell_type": "code",
   "execution_count": 1,
   "metadata": {},
   "outputs": [],
   "source": [
    "import pandas as pd\n",
    "from scipy import stats # untuk p value\n",
    "import numpy as np\n",
    "import matplotlib.pyplot as plt # visualisasi\n",
    "import seaborn as sns # visualisasi"
   ]
  },
  {
   "cell_type": "markdown",
   "metadata": {},
   "source": [
    "# Load data"
   ]
  },
  {
   "cell_type": "code",
   "execution_count": 2,
   "metadata": {},
   "outputs": [],
   "source": [
    "df = pd.read_csv('fix_clean_inferential_covid_indo.csv')"
   ]
  },
  {
   "cell_type": "code",
   "execution_count": 3,
   "metadata": {},
   "outputs": [],
   "source": [
    "# menampilkan seluruh kolom data\n",
    "pd.set_option('display.max_columns', None)"
   ]
  },
  {
   "cell_type": "code",
   "execution_count": 4,
   "metadata": {},
   "outputs": [
    {
     "data": {
      "text/html": [
       "<div>\n",
       "<style scoped>\n",
       "    .dataframe tbody tr th:only-of-type {\n",
       "        vertical-align: middle;\n",
       "    }\n",
       "\n",
       "    .dataframe tbody tr th {\n",
       "        vertical-align: top;\n",
       "    }\n",
       "\n",
       "    .dataframe thead th {\n",
       "        text-align: right;\n",
       "    }\n",
       "</style>\n",
       "<table border=\"1\" class=\"dataframe\">\n",
       "  <thead>\n",
       "    <tr style=\"text-align: right;\">\n",
       "      <th></th>\n",
       "      <th>Date</th>\n",
       "      <th>Location ISO Code</th>\n",
       "      <th>Location</th>\n",
       "      <th>New Cases</th>\n",
       "      <th>New Deaths</th>\n",
       "      <th>New Recovered</th>\n",
       "      <th>New Active Cases</th>\n",
       "      <th>Total Cases</th>\n",
       "      <th>Total Deaths</th>\n",
       "      <th>Total Recovered</th>\n",
       "      <th>Total Active Cases</th>\n",
       "      <th>Location Level</th>\n",
       "      <th>Province</th>\n",
       "      <th>Country</th>\n",
       "      <th>Continent</th>\n",
       "      <th>Island</th>\n",
       "      <th>Time Zone</th>\n",
       "      <th>Special Status</th>\n",
       "      <th>Total Regencies</th>\n",
       "      <th>Total Cities</th>\n",
       "      <th>Total Districts</th>\n",
       "      <th>Total Urban Villages</th>\n",
       "      <th>Total Rural Villages</th>\n",
       "      <th>Area (km2)</th>\n",
       "      <th>Population</th>\n",
       "      <th>Population Density</th>\n",
       "      <th>Longitude</th>\n",
       "      <th>Latitude</th>\n",
       "      <th>New Cases per Million</th>\n",
       "      <th>Total Cases per Million</th>\n",
       "      <th>New Deaths per Million</th>\n",
       "      <th>Total Deaths per Million</th>\n",
       "      <th>Total Deaths per 100rb</th>\n",
       "      <th>Case Fatality Rate</th>\n",
       "      <th>Case Recovered Rate</th>\n",
       "      <th>Growth Factor of New Cases</th>\n",
       "      <th>Growth Factor of New Deaths</th>\n",
       "    </tr>\n",
       "  </thead>\n",
       "  <tbody>\n",
       "    <tr>\n",
       "      <th>0</th>\n",
       "      <td>2020-03-01</td>\n",
       "      <td>ID-JK</td>\n",
       "      <td>DKI Jakarta</td>\n",
       "      <td>2</td>\n",
       "      <td>0</td>\n",
       "      <td>0</td>\n",
       "      <td>2</td>\n",
       "      <td>39</td>\n",
       "      <td>20</td>\n",
       "      <td>41</td>\n",
       "      <td>-22</td>\n",
       "      <td>Province</td>\n",
       "      <td>DKI Jakarta</td>\n",
       "      <td>Indonesia</td>\n",
       "      <td>Asia</td>\n",
       "      <td>Jawa</td>\n",
       "      <td>UTC+07:00</td>\n",
       "      <td>Daerah Khusus Ibu Kota</td>\n",
       "      <td>1</td>\n",
       "      <td>5.0</td>\n",
       "      <td>44</td>\n",
       "      <td>267.0</td>\n",
       "      <td>1591.0</td>\n",
       "      <td>664</td>\n",
       "      <td>10846145</td>\n",
       "      <td>16334.31</td>\n",
       "      <td>106.836118</td>\n",
       "      <td>-6.204699</td>\n",
       "      <td>0.18</td>\n",
       "      <td>3.60</td>\n",
       "      <td>0.00</td>\n",
       "      <td>1.84</td>\n",
       "      <td>0.18</td>\n",
       "      <td>51.28%</td>\n",
       "      <td>105.13%</td>\n",
       "      <td>0.99</td>\n",
       "      <td>1.0</td>\n",
       "    </tr>\n",
       "    <tr>\n",
       "      <th>1</th>\n",
       "      <td>2020-03-02</td>\n",
       "      <td>ID-JK</td>\n",
       "      <td>DKI Jakarta</td>\n",
       "      <td>2</td>\n",
       "      <td>0</td>\n",
       "      <td>0</td>\n",
       "      <td>2</td>\n",
       "      <td>41</td>\n",
       "      <td>20</td>\n",
       "      <td>41</td>\n",
       "      <td>-20</td>\n",
       "      <td>Province</td>\n",
       "      <td>DKI Jakarta</td>\n",
       "      <td>Indonesia</td>\n",
       "      <td>Asia</td>\n",
       "      <td>Jawa</td>\n",
       "      <td>UTC+07:00</td>\n",
       "      <td>Daerah Khusus Ibu Kota</td>\n",
       "      <td>1</td>\n",
       "      <td>5.0</td>\n",
       "      <td>44</td>\n",
       "      <td>267.0</td>\n",
       "      <td>1591.0</td>\n",
       "      <td>664</td>\n",
       "      <td>10846145</td>\n",
       "      <td>16334.31</td>\n",
       "      <td>106.836118</td>\n",
       "      <td>-6.204699</td>\n",
       "      <td>0.18</td>\n",
       "      <td>3.78</td>\n",
       "      <td>0.00</td>\n",
       "      <td>1.84</td>\n",
       "      <td>0.18</td>\n",
       "      <td>48.78%</td>\n",
       "      <td>100.00%</td>\n",
       "      <td>1.00</td>\n",
       "      <td>1.0</td>\n",
       "    </tr>\n",
       "    <tr>\n",
       "      <th>2</th>\n",
       "      <td>2020-03-02</td>\n",
       "      <td>ID-RI</td>\n",
       "      <td>Riau</td>\n",
       "      <td>1</td>\n",
       "      <td>0</td>\n",
       "      <td>0</td>\n",
       "      <td>1</td>\n",
       "      <td>2</td>\n",
       "      <td>0</td>\n",
       "      <td>3</td>\n",
       "      <td>-1</td>\n",
       "      <td>Province</td>\n",
       "      <td>Riau</td>\n",
       "      <td>Indonesia</td>\n",
       "      <td>Asia</td>\n",
       "      <td>Sumatera</td>\n",
       "      <td>UTC+07:00</td>\n",
       "      <td>Daerah</td>\n",
       "      <td>10</td>\n",
       "      <td>2.0</td>\n",
       "      <td>169</td>\n",
       "      <td>268.0</td>\n",
       "      <td>1591.0</td>\n",
       "      <td>87024</td>\n",
       "      <td>6074100</td>\n",
       "      <td>69.80</td>\n",
       "      <td>101.805109</td>\n",
       "      <td>0.511648</td>\n",
       "      <td>0.16</td>\n",
       "      <td>0.33</td>\n",
       "      <td>0.00</td>\n",
       "      <td>0.00</td>\n",
       "      <td>0.00</td>\n",
       "      <td>0.00%</td>\n",
       "      <td>150.00%</td>\n",
       "      <td>0.99</td>\n",
       "      <td>1.0</td>\n",
       "    </tr>\n",
       "    <tr>\n",
       "      <th>3</th>\n",
       "      <td>2020-03-03</td>\n",
       "      <td>ID-JK</td>\n",
       "      <td>DKI Jakarta</td>\n",
       "      <td>2</td>\n",
       "      <td>0</td>\n",
       "      <td>0</td>\n",
       "      <td>2</td>\n",
       "      <td>43</td>\n",
       "      <td>20</td>\n",
       "      <td>41</td>\n",
       "      <td>-18</td>\n",
       "      <td>Province</td>\n",
       "      <td>DKI Jakarta</td>\n",
       "      <td>Indonesia</td>\n",
       "      <td>Asia</td>\n",
       "      <td>Jawa</td>\n",
       "      <td>UTC+07:00</td>\n",
       "      <td>Daerah Khusus Ibu Kota</td>\n",
       "      <td>1</td>\n",
       "      <td>5.0</td>\n",
       "      <td>44</td>\n",
       "      <td>267.0</td>\n",
       "      <td>1591.0</td>\n",
       "      <td>664</td>\n",
       "      <td>10846145</td>\n",
       "      <td>16334.31</td>\n",
       "      <td>106.836118</td>\n",
       "      <td>-6.204699</td>\n",
       "      <td>0.18</td>\n",
       "      <td>3.96</td>\n",
       "      <td>0.00</td>\n",
       "      <td>1.84</td>\n",
       "      <td>0.18</td>\n",
       "      <td>46.51%</td>\n",
       "      <td>95.35%</td>\n",
       "      <td>1.00</td>\n",
       "      <td>1.0</td>\n",
       "    </tr>\n",
       "    <tr>\n",
       "      <th>4</th>\n",
       "      <td>2020-03-03</td>\n",
       "      <td>ID-JB</td>\n",
       "      <td>Jawa Barat</td>\n",
       "      <td>1</td>\n",
       "      <td>1</td>\n",
       "      <td>0</td>\n",
       "      <td>0</td>\n",
       "      <td>1</td>\n",
       "      <td>1</td>\n",
       "      <td>8</td>\n",
       "      <td>-8</td>\n",
       "      <td>Province</td>\n",
       "      <td>Jawa Barat</td>\n",
       "      <td>Indonesia</td>\n",
       "      <td>Asia</td>\n",
       "      <td>Jawa</td>\n",
       "      <td>UTC+07:00</td>\n",
       "      <td>Daerah</td>\n",
       "      <td>18</td>\n",
       "      <td>9.0</td>\n",
       "      <td>627</td>\n",
       "      <td>645.0</td>\n",
       "      <td>5312.0</td>\n",
       "      <td>35378</td>\n",
       "      <td>45161325</td>\n",
       "      <td>1276.55</td>\n",
       "      <td>107.603708</td>\n",
       "      <td>-6.920432</td>\n",
       "      <td>0.02</td>\n",
       "      <td>0.02</td>\n",
       "      <td>0.02</td>\n",
       "      <td>0.02</td>\n",
       "      <td>0.00</td>\n",
       "      <td>100.00%</td>\n",
       "      <td>800.00%</td>\n",
       "      <td>0.99</td>\n",
       "      <td>1.0</td>\n",
       "    </tr>\n",
       "  </tbody>\n",
       "</table>\n",
       "</div>"
      ],
      "text/plain": [
       "         Date Location ISO Code     Location  New Cases  New Deaths  \\\n",
       "0  2020-03-01             ID-JK  DKI Jakarta          2           0   \n",
       "1  2020-03-02             ID-JK  DKI Jakarta          2           0   \n",
       "2  2020-03-02             ID-RI         Riau          1           0   \n",
       "3  2020-03-03             ID-JK  DKI Jakarta          2           0   \n",
       "4  2020-03-03             ID-JB   Jawa Barat          1           1   \n",
       "\n",
       "   New Recovered  New Active Cases  Total Cases  Total Deaths  \\\n",
       "0              0                 2           39            20   \n",
       "1              0                 2           41            20   \n",
       "2              0                 1            2             0   \n",
       "3              0                 2           43            20   \n",
       "4              0                 0            1             1   \n",
       "\n",
       "   Total Recovered  Total Active Cases Location Level     Province    Country  \\\n",
       "0               41                 -22       Province  DKI Jakarta  Indonesia   \n",
       "1               41                 -20       Province  DKI Jakarta  Indonesia   \n",
       "2                3                  -1       Province         Riau  Indonesia   \n",
       "3               41                 -18       Province  DKI Jakarta  Indonesia   \n",
       "4                8                  -8       Province   Jawa Barat  Indonesia   \n",
       "\n",
       "  Continent    Island  Time Zone          Special Status  Total Regencies  \\\n",
       "0      Asia      Jawa  UTC+07:00  Daerah Khusus Ibu Kota                1   \n",
       "1      Asia      Jawa  UTC+07:00  Daerah Khusus Ibu Kota                1   \n",
       "2      Asia  Sumatera  UTC+07:00                  Daerah               10   \n",
       "3      Asia      Jawa  UTC+07:00  Daerah Khusus Ibu Kota                1   \n",
       "4      Asia      Jawa  UTC+07:00                  Daerah               18   \n",
       "\n",
       "   Total Cities  Total Districts  Total Urban Villages  Total Rural Villages  \\\n",
       "0           5.0               44                 267.0                1591.0   \n",
       "1           5.0               44                 267.0                1591.0   \n",
       "2           2.0              169                 268.0                1591.0   \n",
       "3           5.0               44                 267.0                1591.0   \n",
       "4           9.0              627                 645.0                5312.0   \n",
       "\n",
       "   Area (km2)  Population  Population Density   Longitude  Latitude  \\\n",
       "0         664    10846145            16334.31  106.836118 -6.204699   \n",
       "1         664    10846145            16334.31  106.836118 -6.204699   \n",
       "2       87024     6074100               69.80  101.805109  0.511648   \n",
       "3         664    10846145            16334.31  106.836118 -6.204699   \n",
       "4       35378    45161325             1276.55  107.603708 -6.920432   \n",
       "\n",
       "   New Cases per Million  Total Cases per Million  New Deaths per Million  \\\n",
       "0                   0.18                     3.60                    0.00   \n",
       "1                   0.18                     3.78                    0.00   \n",
       "2                   0.16                     0.33                    0.00   \n",
       "3                   0.18                     3.96                    0.00   \n",
       "4                   0.02                     0.02                    0.02   \n",
       "\n",
       "   Total Deaths per Million  Total Deaths per 100rb Case Fatality Rate  \\\n",
       "0                      1.84                    0.18             51.28%   \n",
       "1                      1.84                    0.18             48.78%   \n",
       "2                      0.00                    0.00              0.00%   \n",
       "3                      1.84                    0.18             46.51%   \n",
       "4                      0.02                    0.00            100.00%   \n",
       "\n",
       "  Case Recovered Rate  Growth Factor of New Cases  Growth Factor of New Deaths  \n",
       "0             105.13%                        0.99                          1.0  \n",
       "1             100.00%                        1.00                          1.0  \n",
       "2             150.00%                        0.99                          1.0  \n",
       "3              95.35%                        1.00                          1.0  \n",
       "4             800.00%                        0.99                          1.0  "
      ]
     },
     "execution_count": 4,
     "metadata": {},
     "output_type": "execute_result"
    }
   ],
   "source": [
    "df.head()"
   ]
  },
  {
   "cell_type": "code",
   "execution_count": 5,
   "metadata": {},
   "outputs": [
    {
     "name": "stdout",
     "output_type": "stream",
     "text": [
      "<class 'pandas.core.frame.DataFrame'>\n",
      "RangeIndex: 21117 entries, 0 to 21116\n",
      "Data columns (total 37 columns):\n",
      " #   Column                       Non-Null Count  Dtype  \n",
      "---  ------                       --------------  -----  \n",
      " 0   Date                         21117 non-null  object \n",
      " 1   Location ISO Code            21117 non-null  object \n",
      " 2   Location                     21117 non-null  object \n",
      " 3   New Cases                    21117 non-null  int64  \n",
      " 4   New Deaths                   21117 non-null  int64  \n",
      " 5   New Recovered                21117 non-null  int64  \n",
      " 6   New Active Cases             21117 non-null  int64  \n",
      " 7   Total Cases                  21117 non-null  int64  \n",
      " 8   Total Deaths                 21117 non-null  int64  \n",
      " 9   Total Recovered              21117 non-null  int64  \n",
      " 10  Total Active Cases           21117 non-null  int64  \n",
      " 11  Location Level               21117 non-null  object \n",
      " 12  Province                     21117 non-null  object \n",
      " 13  Country                      21117 non-null  object \n",
      " 14  Continent                    21117 non-null  object \n",
      " 15  Island                       21117 non-null  object \n",
      " 16  Time Zone                    21117 non-null  object \n",
      " 17  Special Status               21117 non-null  object \n",
      " 18  Total Regencies              21117 non-null  int64  \n",
      " 19  Total Cities                 21117 non-null  float64\n",
      " 20  Total Districts              21117 non-null  int64  \n",
      " 21  Total Urban Villages         21117 non-null  float64\n",
      " 22  Total Rural Villages         21117 non-null  float64\n",
      " 23  Area (km2)                   21117 non-null  int64  \n",
      " 24  Population                   21117 non-null  int64  \n",
      " 25  Population Density           21117 non-null  float64\n",
      " 26  Longitude                    21117 non-null  float64\n",
      " 27  Latitude                     21117 non-null  float64\n",
      " 28  New Cases per Million        21117 non-null  float64\n",
      " 29  Total Cases per Million      21117 non-null  float64\n",
      " 30  New Deaths per Million       21117 non-null  float64\n",
      " 31  Total Deaths per Million     21117 non-null  float64\n",
      " 32  Total Deaths per 100rb       21117 non-null  float64\n",
      " 33  Case Fatality Rate           21117 non-null  object \n",
      " 34  Case Recovered Rate          21117 non-null  object \n",
      " 35  Growth Factor of New Cases   21117 non-null  float64\n",
      " 36  Growth Factor of New Deaths  21117 non-null  float64\n",
      "dtypes: float64(13), int64(12), object(12)\n",
      "memory usage: 6.0+ MB\n"
     ]
    }
   ],
   "source": [
    "df.info()"
   ]
  },
  {
   "cell_type": "code",
   "execution_count": 6,
   "metadata": {},
   "outputs": [],
   "source": [
    "df.rename(\n",
    "    columns={'Total Cases' : 'Total_Kasus'} , inplace=True\n",
    ")"
   ]
  },
  {
   "cell_type": "markdown",
   "metadata": {},
   "source": [
    "# Resampling"
   ]
  },
  {
   "cell_type": "code",
   "execution_count": 7,
   "metadata": {},
   "outputs": [
    {
     "data": {
      "text/plain": [
       "<seaborn.axisgrid.FacetGrid at 0x1b4bafde0d0>"
      ]
     },
     "execution_count": 7,
     "metadata": {},
     "output_type": "execute_result"
    },
    {
     "data": {
      "image/png": "[encoded data removed]",
      "text/plain": [
       "<Figure size 360x360 with 1 Axes>"
      ]
     },
     "metadata": {
      "needs_background": "light"
     },
     "output_type": "display_data"
    }
   ],
   "source": [
    "sns.displot(df.Total_Kasus, kde=True, label='Total Kasus di Indonesia')"
   ]
  },
  {
   "cell_type": "markdown",
   "metadata": {},
   "source": [
    "Sampling"
   ]
  },
  {
   "cell_type": "code",
   "execution_count": 8,
   "metadata": {},
   "outputs": [
    {
     "data": {
      "image/png": "[encoded data removed]",
      "text/plain": [
       "<Figure size 1296x288 with 4 Axes>"
      ]
     },
     "metadata": {
      "needs_background": "light"
     },
     "output_type": "display_data"
    }
   ],
   "source": [
    "fig,ax = plt.subplots(ncols=4, figsize = (18,4))\n",
    "for i in range(4):\n",
    "  df.Total_Kasus.sample(400).plot(kind='hist',bins=20,ax=ax[i])\n",
    "  ax[i].set_title('Sample #{}'.format(i+1))"
   ]
  },
  {
   "cell_type": "markdown",
   "metadata": {},
   "source": [
    "distribusi secara visual mirip mirip, tidak ada yg normal, semua skew"
   ]
  },
  {
   "cell_type": "markdown",
   "metadata": {},
   "source": [
    "pengambilan sampling dengan menggunakan sintaks diatas sudah tepat, kecuali ada yang normal 1 bentuk beda sendiri, normal..berarti ada masalah pada sintak"
   ]
  },
  {
   "cell_type": "code",
   "execution_count": 9,
   "metadata": {},
   "outputs": [
    {
     "data": {
      "text/html": [
       "<div>\n",
       "<style scoped>\n",
       "    .dataframe tbody tr th:only-of-type {\n",
       "        vertical-align: middle;\n",
       "    }\n",
       "\n",
       "    .dataframe tbody tr th {\n",
       "        vertical-align: top;\n",
       "    }\n",
       "\n",
       "    .dataframe thead th {\n",
       "        text-align: right;\n",
       "    }\n",
       "</style>\n",
       "<table border=\"1\" class=\"dataframe\">\n",
       "  <thead>\n",
       "    <tr style=\"text-align: right;\">\n",
       "      <th></th>\n",
       "      <th>Date</th>\n",
       "      <th>Location ISO Code</th>\n",
       "      <th>Location</th>\n",
       "      <th>New Cases</th>\n",
       "      <th>New Deaths</th>\n",
       "      <th>New Recovered</th>\n",
       "      <th>New Active Cases</th>\n",
       "      <th>Total_Kasus</th>\n",
       "      <th>Total Deaths</th>\n",
       "      <th>Total Recovered</th>\n",
       "      <th>Total Active Cases</th>\n",
       "      <th>Location Level</th>\n",
       "      <th>Province</th>\n",
       "      <th>Country</th>\n",
       "      <th>Continent</th>\n",
       "      <th>Island</th>\n",
       "      <th>Time Zone</th>\n",
       "      <th>Special Status</th>\n",
       "      <th>Total Regencies</th>\n",
       "      <th>Total Cities</th>\n",
       "      <th>Total Districts</th>\n",
       "      <th>Total Urban Villages</th>\n",
       "      <th>Total Rural Villages</th>\n",
       "      <th>Area (km2)</th>\n",
       "      <th>Population</th>\n",
       "      <th>Population Density</th>\n",
       "      <th>Longitude</th>\n",
       "      <th>Latitude</th>\n",
       "      <th>New Cases per Million</th>\n",
       "      <th>Total Cases per Million</th>\n",
       "      <th>New Deaths per Million</th>\n",
       "      <th>Total Deaths per Million</th>\n",
       "      <th>Total Deaths per 100rb</th>\n",
       "      <th>Case Fatality Rate</th>\n",
       "      <th>Case Recovered Rate</th>\n",
       "      <th>Growth Factor of New Cases</th>\n",
       "      <th>Growth Factor of New Deaths</th>\n",
       "    </tr>\n",
       "  </thead>\n",
       "  <tbody>\n",
       "    <tr>\n",
       "      <th>13276</th>\n",
       "      <td>2021-04-15</td>\n",
       "      <td>ID-SN</td>\n",
       "      <td>Sulawesi Selatan</td>\n",
       "      <td>93</td>\n",
       "      <td>0</td>\n",
       "      <td>56</td>\n",
       "      <td>37</td>\n",
       "      <td>61017</td>\n",
       "      <td>913</td>\n",
       "      <td>59453</td>\n",
       "      <td>651</td>\n",
       "      <td>Province</td>\n",
       "      <td>Sulawesi Selatan</td>\n",
       "      <td>Indonesia</td>\n",
       "      <td>Asia</td>\n",
       "      <td>Sulawesi</td>\n",
       "      <td>UTC+08:00</td>\n",
       "      <td>Daerah</td>\n",
       "      <td>21</td>\n",
       "      <td>3.0</td>\n",
       "      <td>311</td>\n",
       "      <td>792.0</td>\n",
       "      <td>2255.0</td>\n",
       "      <td>46717</td>\n",
       "      <td>9426885</td>\n",
       "      <td>201.78</td>\n",
       "      <td>120.162056</td>\n",
       "      <td>-3.731081</td>\n",
       "      <td>9.87</td>\n",
       "      <td>6472.66</td>\n",
       "      <td>0.0</td>\n",
       "      <td>96.85</td>\n",
       "      <td>9.69</td>\n",
       "      <td>1.50%</td>\n",
       "      <td>97.44%</td>\n",
       "      <td>0.79</td>\n",
       "      <td>1.0</td>\n",
       "    </tr>\n",
       "  </tbody>\n",
       "</table>\n",
       "</div>"
      ],
      "text/plain": [
       "             Date Location ISO Code          Location  New Cases  New Deaths  \\\n",
       "13276  2021-04-15             ID-SN  Sulawesi Selatan         93           0   \n",
       "\n",
       "       New Recovered  New Active Cases  Total_Kasus  Total Deaths  \\\n",
       "13276             56                37        61017           913   \n",
       "\n",
       "       Total Recovered  Total Active Cases Location Level          Province  \\\n",
       "13276            59453                 651       Province  Sulawesi Selatan   \n",
       "\n",
       "         Country Continent    Island  Time Zone Special Status  \\\n",
       "13276  Indonesia      Asia  Sulawesi  UTC+08:00         Daerah   \n",
       "\n",
       "       Total Regencies  Total Cities  Total Districts  Total Urban Villages  \\\n",
       "13276               21           3.0              311                 792.0   \n",
       "\n",
       "       Total Rural Villages  Area (km2)  Population  Population Density  \\\n",
       "13276                2255.0       46717     9426885              201.78   \n",
       "\n",
       "        Longitude  Latitude  New Cases per Million  Total Cases per Million  \\\n",
       "13276  120.162056 -3.731081                   9.87                  6472.66   \n",
       "\n",
       "       New Deaths per Million  Total Deaths per Million  \\\n",
       "13276                     0.0                     96.85   \n",
       "\n",
       "       Total Deaths per 100rb Case Fatality Rate Case Recovered Rate  \\\n",
       "13276                    9.69              1.50%              97.44%   \n",
       "\n",
       "       Growth Factor of New Cases  Growth Factor of New Deaths  \n",
       "13276                        0.79                          1.0  "
      ]
     },
     "execution_count": 9,
     "metadata": {},
     "output_type": "execute_result"
    }
   ],
   "source": [
    "df.sample()"
   ]
  },
  {
   "cell_type": "code",
   "execution_count": 10,
   "metadata": {},
   "outputs": [
    {
     "data": {
      "text/plain": [
       "'Sumatera Utara'"
      ]
     },
     "execution_count": 10,
     "metadata": {},
     "output_type": "execute_result"
    }
   ],
   "source": [
    "df['Location'].max()"
   ]
  },
  {
   "cell_type": "markdown",
   "metadata": {},
   "source": [
    "# Two sample independent two tailed hipotesis testing"
   ]
  },
  {
   "cell_type": "markdown",
   "metadata": {},
   "source": [
    "membandingkan suatu kasus pada lokasi tertentu Sumatera Utara dan DKI Jakarta"
   ]
  },
  {
   "cell_type": "code",
   "execution_count": 11,
   "metadata": {},
   "outputs": [
    {
     "name": "stdout",
     "output_type": "stream",
     "text": [
      "Average cases of Sumatera Utara a day: 32531.0\n",
      "Average cases of DKI Jakarta a day: 324913.0\n"
     ]
    }
   ],
   "source": [
    "total_sumut = df[df['Location']=='Sumatera Utara'][['Date','Total_Kasus']].groupby('Date').sum()\n",
    "total_dki_j = df[df['Location']=='DKI Jakarta'][['Date','Total_Kasus']].groupby('Date').sum()\n",
    "\n",
    "print('Average cases of Sumatera Utara a day: {}'.format(np.round(total_sumut.Total_Kasus.mean())))\n",
    "print('Average cases of DKI Jakarta a day: {}'.format(np.round(total_dki_j.Total_Kasus.mean())))"
   ]
  },
  {
   "cell_type": "markdown",
   "metadata": {},
   "source": [
    "Our hypothesis on this case:\n",
    "\n",
    "H0: μ_sumut = μ_dki\n",
    "\n",
    "H1: μ_sumut != μ_dki"
   ]
  },
  {
   "cell_type": "code",
   "execution_count": 12,
   "metadata": {},
   "outputs": [
    {
     "name": "stdout",
     "output_type": "stream",
     "text": [
      "P-value: 8.44870106781152e-97\n",
      "t-statistics: -22.816378587679615\n"
     ]
    }
   ],
   "source": [
    "t_stat, p_val = stats.ttest_ind(total_sumut,total_dki_j)\n",
    "print('P-value:',p_val[0]) #the p-value isn't divided by 2 since the output is two-sided p-value\n",
    "print('t-statistics:',t_stat[0])"
   ]
  },
  {
   "cell_type": "markdown",
   "metadata": {},
   "source": [
    "p value > cv (critical value)"
   ]
  },
  {
   "cell_type": "markdown",
   "metadata": {},
   "source": [
    "8.4 lebih besar dari 0.05 critical value. kita bilang h0 nya diterima"
   ]
  },
  {
   "cell_type": "code",
   "execution_count": 13,
   "metadata": {},
   "outputs": [
    {
     "name": "stderr",
     "output_type": "stream",
     "text": [
      "C:\\ProgramData\\Anaconda3\\lib\\site-packages\\seaborn\\distributions.py:2619: FutureWarning: `distplot` is a deprecated function and will be removed in a future version. Please adapt your code to use either `displot` (a figure-level function with similar flexibility) or `histplot` (an axes-level function for histograms).\n",
      "  warnings.warn(msg, FutureWarning)\n",
      "C:\\ProgramData\\Anaconda3\\lib\\site-packages\\seaborn\\distributions.py:2619: FutureWarning: `distplot` is a deprecated function and will be removed in a future version. Please adapt your code to use either `displot` (a figure-level function with similar flexibility) or `histplot` (an axes-level function for histograms).\n",
      "  warnings.warn(msg, FutureWarning)\n"
     ]
    },
    {
     "data": {
      "text/plain": [
       "<matplotlib.legend.Legend at 0x1b4c11b9df0>"
      ]
     },
     "execution_count": 13,
     "metadata": {},
     "output_type": "execute_result"
    },
    {
     "data": {
      "image/png": "[encoded data removed]",
      "text/plain": [
       "<Figure size 1152x360 with 1 Axes>"
      ]
     },
     "metadata": {
      "needs_background": "light"
     },
     "output_type": "display_data"
    }
   ],
   "source": [
    "sumut_pop = np.random.normal(total_sumut.Total_Kasus.mean(),total_sumut.Total_Kasus.std(),100000)\n",
    "dki_j_pop = np.random.normal(total_dki_j.Total_Kasus.mean(),total_dki_j.Total_Kasus.std(),100000)\n",
    "\n",
    "ci = stats.norm.interval(0.95, total_sumut.Total_Kasus.mean(), total_sumut.Total_Kasus.std())\n",
    "plt.figure(figsize=(16,5))\n",
    "sns.distplot(sumut_pop, label='France Average Sales a Day *Pop',color='blue')\n",
    "sns.distplot(dki_j_pop, label='Germany Average Sales a Day *Pop',color='red')\n",
    "\n",
    "plt.axvline(total_sumut.Total_Kasus.mean(), color='blue', linewidth=2, label='France mean')\n",
    "plt.axvline(total_dki_j.Total_Kasus.mean(), color='red',  linewidth=2, label='Germany mean')\n",
    "\n",
    "plt.axvline(ci[1], color='green', linestyle='dashed', linewidth=2, label='confidence threshold of 95%')\n",
    "plt.axvline(ci[0], color='green', linestyle='dashed', linewidth=2)\n",
    "\n",
    "plt.axvline(sumut_pop.mean()+t_stat[0]*sumut_pop.std(), color='black', linestyle='dashed', linewidth=2, label = 'Alternative Hypothesis')\n",
    "plt.axvline(sumut_pop.mean()-t_stat[0]*sumut_pop.std(), color='black', linestyle='dashed', linewidth=2)\n",
    "\n",
    "plt.legend()"
   ]
  },
  {
   "cell_type": "markdown",
   "metadata": {},
   "source": [
    "# Kesimpulan"
   ]
  },
  {
   "cell_type": "markdown",
   "metadata": {},
   "source": [
    "Berdasarkan hasil di atas, kita dapat menyimpulkan bahwa kita menerima hipotesis nol bahwa antara sumatera utara dan DKI Jakarta tidak berbeda secara signifikan dalam hal total kasus covid "
   ]
  }
 ],
 "metadata": {
  "interpreter": {
   "hash": "b3ba2566441a7c06988d0923437866b63cedc61552a5af99d1f4fb67d367b25f"
  },
  "kernelspec": {
   "display_name": "Python 3.9.7 64-bit ('base': conda)",
   "language": "python",
   "name": "python3"
  },
  "language_info": {
   "codemirror_mode": {
    "name": "ipython",
    "version": 3
   },
   "file_extension": ".py",
   "mimetype": "text/x-python",
   "name": "python",
   "nbconvert_exporter": "python",
   "pygments_lexer": "ipython3",
   "version": "3.9.7"
  },
  "orig_nbformat": 4
 },
 "nbformat": 4,
 "nbformat_minor": 2
}
